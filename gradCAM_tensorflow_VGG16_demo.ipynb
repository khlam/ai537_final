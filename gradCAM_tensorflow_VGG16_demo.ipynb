{
 "cells": [
  {
   "cell_type": "markdown",
   "metadata": {},
   "source": [
    "# GradCAM Visualization Demo with VGG16\n",
    "\n",
    "Requirement:\n",
    "\n",
    "* GPU Memory: 6GB or higher"
   ]
  },
  {
   "cell_type": "code",
   "execution_count": 1,
   "metadata": {},
   "outputs": [
    {
     "name": "stderr",
     "output_type": "stream",
     "text": [
      "2022-06-09 19:59:10.998647: W tensorflow/stream_executor/platform/default/dso_loader.cc:64] Could not load dynamic library 'libcudart.so.11.0'; dlerror: libcudart.so.11.0: cannot open shared object file: No such file or directory\n",
      "2022-06-09 19:59:10.998684: I tensorflow/stream_executor/cuda/cudart_stub.cc:29] Ignore above cudart dlerror if you do not have a GPU set up on your machine.\n"
     ]
    },
    {
     "name": "stdout",
     "output_type": "stream",
     "text": [
      "WARNING:tensorflow:From /scratch/lamki/miniconda3/envs/pytorch/lib/python3.8/site-packages/tensorflow/python/compat/v2_compat.py:107: disable_resource_variables (from tensorflow.python.ops.variable_scope) is deprecated and will be removed in a future version.\n",
      "Instructions for updating:\n",
      "non-resource variables are not supported in the long term\n"
     ]
    }
   ],
   "source": [
    "# Replace vanila relu to guided relu to get guided backpropagation.\n",
    "import tensorflow.compat.v1 as tf\n",
    "tf.disable_v2_behavior()\n",
    "\n",
    "from tensorflow.python.framework import ops\n",
    "from tensorflow.python.ops import gen_nn_ops\n",
    "\n",
    "@ops.RegisterGradient(\"GuidedRelu\")\n",
    "def _GuidedReluGrad(op, grad):\n",
    "    return tf.where(0. < grad, gen_nn_ops._relu_grad(grad, op.outputs[0]), tf.zeros(grad.get_shape()))"
   ]
  },
  {
   "cell_type": "code",
   "execution_count": 2,
   "metadata": {},
   "outputs": [
    {
     "name": "stderr",
     "output_type": "stream",
     "text": [
      "2022-06-09 19:59:14.541353: W tensorflow/stream_executor/platform/default/dso_loader.cc:64] Could not load dynamic library 'libcudart.so.11.0'; dlerror: libcudart.so.11.0: cannot open shared object file: No such file or directory\n",
      "2022-06-09 19:59:14.541521: W tensorflow/stream_executor/platform/default/dso_loader.cc:64] Could not load dynamic library 'libcublas.so.11'; dlerror: libcublas.so.11: cannot open shared object file: No such file or directory\n",
      "2022-06-09 19:59:14.541707: W tensorflow/stream_executor/platform/default/dso_loader.cc:64] Could not load dynamic library 'libcublasLt.so.11'; dlerror: libcublasLt.so.11: cannot open shared object file: No such file or directory\n",
      "2022-06-09 19:59:14.541866: W tensorflow/stream_executor/platform/default/dso_loader.cc:64] Could not load dynamic library 'libcufft.so.10'; dlerror: libcufft.so.10: cannot open shared object file: No such file or directory\n",
      "2022-06-09 19:59:14.541996: W tensorflow/stream_executor/platform/default/dso_loader.cc:64] Could not load dynamic library 'libcurand.so.10'; dlerror: libcurand.so.10: cannot open shared object file: No such file or directory\n",
      "2022-06-09 19:59:14.542121: W tensorflow/stream_executor/platform/default/dso_loader.cc:64] Could not load dynamic library 'libcusolver.so.11'; dlerror: libcusolver.so.11: cannot open shared object file: No such file or directory\n",
      "2022-06-09 19:59:14.542270: W tensorflow/stream_executor/platform/default/dso_loader.cc:64] Could not load dynamic library 'libcusparse.so.11'; dlerror: libcusparse.so.11: cannot open shared object file: No such file or directory\n",
      "2022-06-09 19:59:14.542392: W tensorflow/stream_executor/platform/default/dso_loader.cc:64] Could not load dynamic library 'libcudnn.so.8'; dlerror: libcudnn.so.8: cannot open shared object file: No such file or directory\n",
      "2022-06-09 19:59:14.542411: W tensorflow/core/common_runtime/gpu/gpu_device.cc:1850] Cannot dlopen some GPU libraries. Please make sure the missing libraries mentioned above are installed properly if you would like to use GPU. Follow the guide at https://www.tensorflow.org/install/gpu for how to download and setup the required libraries for your platform.\n",
      "Skipping registering GPU devices...\n",
      "2022-06-09 19:59:14.542889: I tensorflow/core/platform/cpu_feature_guard.cc:193] This TensorFlow binary is optimized with oneAPI Deep Neural Network Library (oneDNN) to use the following CPU instructions in performance-critical operations:  AVX2 AVX512F FMA\n",
      "To enable them in other operations, rebuild TensorFlow with the appropriate compiler flags.\n",
      "2022-06-09 19:59:14.564351: I tensorflow/compiler/mlir/mlir_graph_optimization_pass.cc:354] MLIR V1 optimization pass is not enabled\n"
     ]
    },
    {
     "ename": "ValueError",
     "evalue": "When using data tensors as input to a model, you should specify the `steps` argument.",
     "output_type": "error",
     "traceback": [
      "\u001b[0;31m---------------------------------------------------------------------------\u001b[0m",
      "\u001b[0;31mValueError\u001b[0m                                Traceback (most recent call last)",
      "Input \u001b[0;32mIn [2]\u001b[0m, in \u001b[0;36m<cell line: 43>\u001b[0;34m()\u001b[0m\n\u001b[1;32m     47\u001b[0m labels \u001b[38;5;241m=\u001b[39m tf\u001b[38;5;241m.\u001b[39mplaceholder(tf\u001b[38;5;241m.\u001b[39mfloat32, [batch_size, \u001b[38;5;241m1000\u001b[39m])\n\u001b[1;32m     49\u001b[0m vgg \u001b[38;5;241m=\u001b[39m vgg16\n\u001b[0;32m---> 51\u001b[0m prob \u001b[38;5;241m=\u001b[39m \u001b[43mvgg\u001b[49m\u001b[38;5;241;43m.\u001b[39;49m\u001b[43mpredict\u001b[49m\u001b[43m(\u001b[49m\u001b[43mimages\u001b[49m\u001b[43m)\u001b[49m\n\u001b[1;32m     53\u001b[0m cost \u001b[38;5;241m=\u001b[39m (\u001b[38;5;241m-\u001b[39m\u001b[38;5;241m1\u001b[39m) \u001b[38;5;241m*\u001b[39m tf\u001b[38;5;241m.\u001b[39mreduce_sum(tf\u001b[38;5;241m.\u001b[39mmultiply(labels, tf\u001b[38;5;241m.\u001b[39mlog(prob)), axis\u001b[38;5;241m=\u001b[39m\u001b[38;5;241m1\u001b[39m)\n\u001b[1;32m     54\u001b[0m \u001b[38;5;28mprint\u001b[39m(\u001b[38;5;124m'\u001b[39m\u001b[38;5;124mcost:\u001b[39m\u001b[38;5;124m'\u001b[39m, cost)\n",
      "File \u001b[0;32m/scratch/lamki/miniconda3/envs/pytorch/lib/python3.8/site-packages/keras/engine/training_v1.py:969\u001b[0m, in \u001b[0;36mModel.predict\u001b[0;34m(self, x, batch_size, verbose, steps, callbacks, max_queue_size, workers, use_multiprocessing)\u001b[0m\n\u001b[1;32m    966\u001b[0m \u001b[38;5;28mself\u001b[39m\u001b[38;5;241m.\u001b[39m_check_call_args(\u001b[38;5;124m'\u001b[39m\u001b[38;5;124mpredict\u001b[39m\u001b[38;5;124m'\u001b[39m)\n\u001b[1;32m    968\u001b[0m func \u001b[38;5;241m=\u001b[39m \u001b[38;5;28mself\u001b[39m\u001b[38;5;241m.\u001b[39m_select_training_loop(x)\n\u001b[0;32m--> 969\u001b[0m \u001b[38;5;28;01mreturn\u001b[39;00m \u001b[43mfunc\u001b[49m\u001b[38;5;241;43m.\u001b[39;49m\u001b[43mpredict\u001b[49m\u001b[43m(\u001b[49m\n\u001b[1;32m    970\u001b[0m \u001b[43m    \u001b[49m\u001b[38;5;28;43mself\u001b[39;49m\u001b[43m,\u001b[49m\n\u001b[1;32m    971\u001b[0m \u001b[43m    \u001b[49m\u001b[43mx\u001b[49m\u001b[38;5;241;43m=\u001b[39;49m\u001b[43mx\u001b[49m\u001b[43m,\u001b[49m\n\u001b[1;32m    972\u001b[0m \u001b[43m    \u001b[49m\u001b[43mbatch_size\u001b[49m\u001b[38;5;241;43m=\u001b[39;49m\u001b[43mbatch_size\u001b[49m\u001b[43m,\u001b[49m\n\u001b[1;32m    973\u001b[0m \u001b[43m    \u001b[49m\u001b[43mverbose\u001b[49m\u001b[38;5;241;43m=\u001b[39;49m\u001b[43mverbose\u001b[49m\u001b[43m,\u001b[49m\n\u001b[1;32m    974\u001b[0m \u001b[43m    \u001b[49m\u001b[43msteps\u001b[49m\u001b[38;5;241;43m=\u001b[39;49m\u001b[43msteps\u001b[49m\u001b[43m,\u001b[49m\n\u001b[1;32m    975\u001b[0m \u001b[43m    \u001b[49m\u001b[43mcallbacks\u001b[49m\u001b[38;5;241;43m=\u001b[39;49m\u001b[43mcallbacks\u001b[49m\u001b[43m,\u001b[49m\n\u001b[1;32m    976\u001b[0m \u001b[43m    \u001b[49m\u001b[43mmax_queue_size\u001b[49m\u001b[38;5;241;43m=\u001b[39;49m\u001b[43mmax_queue_size\u001b[49m\u001b[43m,\u001b[49m\n\u001b[1;32m    977\u001b[0m \u001b[43m    \u001b[49m\u001b[43mworkers\u001b[49m\u001b[38;5;241;43m=\u001b[39;49m\u001b[43mworkers\u001b[49m\u001b[43m,\u001b[49m\n\u001b[1;32m    978\u001b[0m \u001b[43m    \u001b[49m\u001b[43muse_multiprocessing\u001b[49m\u001b[38;5;241;43m=\u001b[39;49m\u001b[43muse_multiprocessing\u001b[49m\u001b[43m)\u001b[49m\n",
      "File \u001b[0;32m/scratch/lamki/miniconda3/envs/pytorch/lib/python3.8/site-packages/keras/engine/training_arrays_v1.py:698\u001b[0m, in \u001b[0;36mArrayLikeTrainingLoop.predict\u001b[0;34m(self, model, x, batch_size, verbose, steps, callbacks, **kwargs)\u001b[0m\n\u001b[1;32m    689\u001b[0m \u001b[38;5;28;01mdef\u001b[39;00m \u001b[38;5;21mpredict\u001b[39m(\u001b[38;5;28mself\u001b[39m,\n\u001b[1;32m    690\u001b[0m             model,\n\u001b[1;32m    691\u001b[0m             x,\n\u001b[0;32m   (...)\u001b[0m\n\u001b[1;32m    695\u001b[0m             callbacks\u001b[38;5;241m=\u001b[39m\u001b[38;5;28;01mNone\u001b[39;00m,\n\u001b[1;32m    696\u001b[0m             \u001b[38;5;241m*\u001b[39m\u001b[38;5;241m*\u001b[39mkwargs):\n\u001b[1;32m    697\u001b[0m   batch_size \u001b[38;5;241m=\u001b[39m model\u001b[38;5;241m.\u001b[39m_validate_or_infer_batch_size(batch_size, steps, x)\n\u001b[0;32m--> 698\u001b[0m   x, _, _ \u001b[38;5;241m=\u001b[39m \u001b[43mmodel\u001b[49m\u001b[38;5;241;43m.\u001b[39;49m\u001b[43m_standardize_user_data\u001b[49m\u001b[43m(\u001b[49m\n\u001b[1;32m    699\u001b[0m \u001b[43m      \u001b[49m\u001b[43mx\u001b[49m\u001b[43m,\u001b[49m\u001b[43m \u001b[49m\u001b[43mcheck_steps\u001b[49m\u001b[38;5;241;43m=\u001b[39;49m\u001b[38;5;28;43;01mTrue\u001b[39;49;00m\u001b[43m,\u001b[49m\u001b[43m \u001b[49m\u001b[43msteps_name\u001b[49m\u001b[38;5;241;43m=\u001b[39;49m\u001b[38;5;124;43m'\u001b[39;49m\u001b[38;5;124;43msteps\u001b[39;49m\u001b[38;5;124;43m'\u001b[39;49m\u001b[43m,\u001b[49m\u001b[43m \u001b[49m\u001b[43msteps\u001b[49m\u001b[38;5;241;43m=\u001b[39;49m\u001b[43msteps\u001b[49m\u001b[43m)\u001b[49m\n\u001b[1;32m    700\u001b[0m   \u001b[38;5;28;01mreturn\u001b[39;00m predict_loop(\n\u001b[1;32m    701\u001b[0m       model,\n\u001b[1;32m    702\u001b[0m       x,\n\u001b[0;32m   (...)\u001b[0m\n\u001b[1;32m    705\u001b[0m       steps\u001b[38;5;241m=\u001b[39msteps,\n\u001b[1;32m    706\u001b[0m       callbacks\u001b[38;5;241m=\u001b[39mcallbacks)\n",
      "File \u001b[0;32m/scratch/lamki/miniconda3/envs/pytorch/lib/python3.8/site-packages/keras/engine/training_v1.py:2288\u001b[0m, in \u001b[0;36mModel._standardize_user_data\u001b[0;34m(self, x, y, sample_weight, class_weight, batch_size, check_steps, steps_name, steps, validation_split, shuffle, extract_tensors_from_dataset)\u001b[0m\n\u001b[1;32m   2286\u001b[0m \u001b[38;5;66;03m# Validates `steps` argument based on x's type.\u001b[39;00m\n\u001b[1;32m   2287\u001b[0m \u001b[38;5;28;01mif\u001b[39;00m check_steps:\n\u001b[0;32m-> 2288\u001b[0m   \u001b[43mtraining_utils_v1\u001b[49m\u001b[38;5;241;43m.\u001b[39;49m\u001b[43mcheck_steps_argument\u001b[49m\u001b[43m(\u001b[49m\u001b[43mx\u001b[49m\u001b[43m,\u001b[49m\u001b[43m \u001b[49m\u001b[43msteps\u001b[49m\u001b[43m,\u001b[49m\u001b[43m \u001b[49m\u001b[43msteps_name\u001b[49m\u001b[43m)\u001b[49m\n\u001b[1;32m   2290\u001b[0m \u001b[38;5;66;03m# First, we build the model on the fly if necessary.\u001b[39;00m\n\u001b[1;32m   2291\u001b[0m \u001b[38;5;28;01mif\u001b[39;00m \u001b[38;5;129;01mnot\u001b[39;00m \u001b[38;5;28mself\u001b[39m\u001b[38;5;241m.\u001b[39minputs:\n",
      "File \u001b[0;32m/scratch/lamki/miniconda3/envs/pytorch/lib/python3.8/site-packages/keras/engine/training_utils_v1.py:1315\u001b[0m, in \u001b[0;36mcheck_steps_argument\u001b[0;34m(input_data, steps, steps_name)\u001b[0m\n\u001b[1;32m   1313\u001b[0m   \u001b[38;5;28;01mif\u001b[39;00m steps \u001b[38;5;129;01mis\u001b[39;00m \u001b[38;5;28;01mNone\u001b[39;00m:\n\u001b[1;32m   1314\u001b[0m     input_type_str \u001b[38;5;241m=\u001b[39m \u001b[38;5;124m'\u001b[39m\u001b[38;5;124ma Dataset iterator\u001b[39m\u001b[38;5;124m'\u001b[39m \u001b[38;5;28;01mif\u001b[39;00m is_x_iterator \u001b[38;5;28;01melse\u001b[39;00m \u001b[38;5;124m'\u001b[39m\u001b[38;5;124mdata tensors\u001b[39m\u001b[38;5;124m'\u001b[39m\n\u001b[0;32m-> 1315\u001b[0m     \u001b[38;5;28;01mraise\u001b[39;00m \u001b[38;5;167;01mValueError\u001b[39;00m(\u001b[38;5;124m'\u001b[39m\u001b[38;5;124mWhen using \u001b[39m\u001b[38;5;132;01m{input_type}\u001b[39;00m\u001b[38;5;124m as input to a model, you should\u001b[39m\u001b[38;5;124m'\u001b[39m\n\u001b[1;32m   1316\u001b[0m                      \u001b[38;5;124m'\u001b[39m\u001b[38;5;124m specify the `\u001b[39m\u001b[38;5;132;01m{steps_name}\u001b[39;00m\u001b[38;5;124m` argument.\u001b[39m\u001b[38;5;124m'\u001b[39m\u001b[38;5;241m.\u001b[39mformat(\n\u001b[1;32m   1317\u001b[0m                          input_type\u001b[38;5;241m=\u001b[39minput_type_str, steps_name\u001b[38;5;241m=\u001b[39msteps_name))\n\u001b[1;32m   1318\u001b[0m   \u001b[38;5;28;01mreturn\u001b[39;00m \u001b[38;5;28;01mTrue\u001b[39;00m\n\u001b[1;32m   1320\u001b[0m \u001b[38;5;28;01mif\u001b[39;00m \u001b[38;5;28misinstance\u001b[39m(input_data, (tf\u001b[38;5;241m.\u001b[39mcompat\u001b[38;5;241m.\u001b[39mv1\u001b[38;5;241m.\u001b[39mdata\u001b[38;5;241m.\u001b[39mDataset, tf\u001b[38;5;241m.\u001b[39mdata\u001b[38;5;241m.\u001b[39mDataset)):\n",
      "\u001b[0;31mValueError\u001b[0m: When using data tensors as input to a model, you should specify the `steps` argument."
     ]
    }
   ],
   "source": [
    "%reload_ext autoreload\n",
    "%autoreload 2\n",
    "%matplotlib inline\n",
    "\n",
    "import numpy as np\n",
    "\n",
    "from keras.models import load_model\n",
    "vgg16 = load_model('face_gender_recognisation_a.h5')\n",
    "\n",
    "import utils\n",
    "\n",
    "# Create mini-batch for demo\n",
    "\n",
    "# Get normalized input. VGG network handles the normalized image internally. \n",
    "img1 = utils.load_image(\"./CelebA_HQ_face_gender_dataset/test/female/5143.jpg\")\n",
    "img2 = utils.load_image(\"./CelebA_HQ_face_gender_dataset/test/female/5143.jpg\")\n",
    "img3 = utils.load_image(\"./CelebA_HQ_face_gender_dataset/test/female/5143.jpg\")\n",
    "\n",
    "\n",
    "batch1_img = img1.reshape((1, 224, 224, 3))\n",
    "batch1_label = np.array([1 if i == 242 else 0 for i in range(1000)])  # 1-hot result for Boxer\n",
    "batch1_label = batch1_label.reshape(1, -1)\n",
    "\n",
    "batch2_img = img2.reshape((1, 224, 224, 3))\n",
    "batch2_label = np.array([1 if i == 155 else 0 for i in range(1000)])  # 1-hot result for Shih-Tzu\n",
    "batch2_label = batch2_label.reshape(1, -1)\n",
    "\n",
    "batch3_img = img3.reshape((1, 224, 224, 3))\n",
    "batch3_label = np.array([1 if i == 292 else 0 for i in range(1000)])  # 1-hot result for tiger\n",
    "batch3_label = batch3_label.reshape(1, -1)\n",
    "\n",
    "batch_img = np.concatenate((batch1_img, batch2_img, batch3_img), 0)\n",
    "batch_label = np.concatenate((batch1_label, batch2_label, batch3_label), 0)\n",
    "\n",
    "batch_size = 3\n",
    "\n",
    "# for i in range(batch_size):\n",
    "#     print('See visualization of below category')\n",
    "#     utils.print_prob(batch_label[i], './synset.txt')\n",
    "\n",
    "# Create tensorflow graph for evaluation\n",
    "eval_graph = tf.Graph()\n",
    "with eval_graph.as_default():\n",
    "    with eval_graph.gradient_override_map({'Relu': 'GuidedRelu'}):\n",
    "    \n",
    "        images = tf.placeholder(\"float\", [batch_size, 224, 224, 3])\n",
    "        labels = tf.placeholder(tf.float32, [batch_size, 1000])\n",
    "\n",
    "        vgg = vgg16\n",
    "        \n",
    "        prob = vgg.predict(images)\n",
    "        \n",
    "        cost = (-1) * tf.reduce_sum(tf.multiply(labels, tf.log(prob)), axis=1)\n",
    "        print('cost:', cost)\n",
    "        # cost = tf.reduce_sum((vgg.prob - labels) ** 2)\n",
    "        \n",
    "        \n",
    "        # gradient for partial linearization. We only care about target visualization class. \n",
    "        y_c = tf.reduce_sum(tf.multiply(vgg.fc8, labels), axis=1)\n",
    "        print('y_c:', y_c)\n",
    "        # Get last convolutional layer gradient for generating gradCAM visualization\n",
    "        target_conv_layer = vgg.pool5\n",
    "        target_conv_layer_grad = tf.gradients(y_c, target_conv_layer)[0]\n",
    "\n",
    "        # Guided backpropagtion back to input layer\n",
    "        gb_grad = tf.gradients(cost, images)[0]\n",
    "\n",
    "        init = tf.global_variables_initializer()\n",
    "\n",
    "        \n",
    "# Run tensorflow \n",
    "\n",
    "with tf.Session(graph=eval_graph) as sess:    \n",
    "    sess.run(init)\n",
    "    \n",
    "    prob = sess.run(prob, feed_dict={images: batch_img})\n",
    "    \n",
    "    gb_grad_value, target_conv_layer_value, target_conv_layer_grad_value = sess.run([gb_grad, target_conv_layer, target_conv_layer_grad], feed_dict={images: batch_img, labels: batch_label})\n",
    "    \n",
    "    \n",
    "    for i in range(batch_size):\n",
    "        utils.print_prob(prob[i], './synset.txt')\n",
    "        # VGG16 use BGR internally, so we manually change BGR to RGB\n",
    "        gradBGR = gb_grad_value[i]\n",
    "        gradRGB = np.dstack((\n",
    "            gradBGR[:, :, 2],\n",
    "            gradBGR[:, :, 1],\n",
    "            gradBGR[:, :, 0],\n",
    "        ))\n",
    "        utils.visualize(batch_img[i], target_conv_layer_value[i], target_conv_layer_grad_value[i], gradRGB)   "
   ]
  }
 ],
 "metadata": {
  "kernelspec": {
   "display_name": "Python 3 (ipykernel)",
   "language": "python",
   "name": "python3"
  },
  "language_info": {
   "codemirror_mode": {
    "name": "ipython",
    "version": 3
   },
   "file_extension": ".py",
   "mimetype": "text/x-python",
   "name": "python",
   "nbconvert_exporter": "python",
   "pygments_lexer": "ipython3",
   "version": "3.8.13"
  },
  "widgets": {
   "application/vnd.jupyter.widget-state+json": {
    "state": {},
    "version_major": 2,
    "version_minor": 0
   }
  }
 },
 "nbformat": 4,
 "nbformat_minor": 4
}
